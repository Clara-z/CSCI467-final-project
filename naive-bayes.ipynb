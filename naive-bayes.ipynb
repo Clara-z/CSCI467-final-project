{
 "cells": [
  {
   "cell_type": "code",
   "execution_count": 6,
   "metadata": {},
   "outputs": [
    {
     "name": "stdout",
     "output_type": "stream",
     "text": [
      "Alpha: 0.001, Accuracy: 0.6608\n",
      "Alpha: 0.01, Accuracy: 0.6608\n",
      "Alpha: 0.1, Accuracy: 0.6614\n",
      "Alpha: 0.5, Accuracy: 0.6639\n",
      "Alpha: 1, Accuracy: 0.6646\n",
      "Alpha: 2, Accuracy: 0.6656\n",
      "Alpha: 5, Accuracy: 0.6624\n",
      "Alpha: 10, Accuracy: 0.6537\n",
      "\n",
      "Best alpha value: 2\n",
      "\n",
      "Accuracy: 0.6749538461538461\n",
      "Classification Report:\n",
      "               precision    recall  f1-score   support\n",
      "\n",
      "           0       0.69      0.52      0.60      3724\n",
      "           1       0.67      0.80      0.73      4401\n",
      "\n",
      "    accuracy                           0.67      8125\n",
      "   macro avg       0.68      0.66      0.66      8125\n",
      "weighted avg       0.68      0.67      0.67      8125\n",
      "\n"
     ]
    }
   ],
   "source": [
    "# Import necessary libraries\n",
    "import pandas as pd\n",
    "from sklearn.feature_extraction.text import TfidfVectorizer\n",
    "from sklearn.model_selection import train_test_split, cross_val_score\n",
    "from sklearn.naive_bayes import MultinomialNB\n",
    "from sklearn.metrics import classification_report, accuracy_score\n",
    "\n",
    "# Load the dataset\n",
    "data = pd.read_csv('data/dynamically-generated-hate-speech.csv')\n",
    "\n",
    "# Extract the relevant columns\n",
    "texts = data['text']\n",
    "labels = data['label'].apply(lambda x: 1 if x == \"hate\" else 0)\n",
    "\n",
    "# Initialize the TF-IDF vectorizer\n",
    "tfidf_vectorizer = TfidfVectorizer(stop_words='english', max_features=5000)\n",
    "\n",
    "# Fit and transform the vectorizer on the texts\n",
    "text_features = tfidf_vectorizer.fit_transform(texts)\n",
    "\n",
    "# Splitting the data into training and test sets\n",
    "X_train, X_test, y_train, y_test = train_test_split(text_features, labels, test_size=0.2, random_state=42)\n",
    "\n",
    "# Define the alpha range\n",
    "alpha_range = [0.001, 0.01, 0.1, 0.5, 1, 2, 5, 10]\n",
    "alpha_scores = []\n",
    "\n",
    "# Iterate over each alpha value and evaluate using cross-validation\n",
    "for alpha in alpha_range:\n",
    "    nb = MultinomialNB(alpha=alpha)\n",
    "    scores = cross_val_score(nb, X_train, y_train, cv=12, scoring='accuracy')\n",
    "    alpha_scores.append(scores.mean())\n",
    "\n",
    "# Print the results\n",
    "for alpha, score in zip(alpha_range, alpha_scores):\n",
    "    print(f\"Alpha: {alpha}, Accuracy: {score:.4f}\")\n",
    "\n",
    "best_index = alpha_scores.index(max(alpha_scores))\n",
    "best_alpha = alpha_range[best_index]\n",
    "best_score = alpha_scores[best_index]\n",
    "\n",
    "print(f\"\\nBest alpha value: {best_alpha}\\n\")\n",
    "\n",
    "# Initializing and training the Naive Bayes classifier\n",
    "nb_classifier = MultinomialNB(alpha=best_alpha)\n",
    "nb_classifier.fit(X_train, y_train)\n",
    "\n",
    "# Predicting on the test set\n",
    "y_pred = nb_classifier.predict(X_test)\n",
    "\n",
    "# Evaluating the model\n",
    "accuracy = accuracy_score(y_test, y_pred)\n",
    "classification_rep = classification_report(y_test, y_pred)\n",
    "\n",
    "print(\"Accuracy:\", accuracy)\n",
    "print(\"Classification Report:\\n\", classification_rep)"
   ]
  },
  {
   "cell_type": "code",
   "execution_count": null,
   "metadata": {},
   "outputs": [],
   "source": []
  }
 ],
 "metadata": {
  "kernelspec": {
   "display_name": "Python 3",
   "language": "python",
   "name": "python3"
  },
  "language_info": {
   "codemirror_mode": {
    "name": "ipython",
    "version": 3
   },
   "file_extension": ".py",
   "mimetype": "text/x-python",
   "name": "python",
   "nbconvert_exporter": "python",
   "pygments_lexer": "ipython3",
   "version": "3.10.1"
  },
  "orig_nbformat": 4
 },
 "nbformat": 4,
 "nbformat_minor": 2
}
